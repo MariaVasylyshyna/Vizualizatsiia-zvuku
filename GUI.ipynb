{
 "cells": [
  {
   "cell_type": "code",
   "execution_count": 1,
   "id": "a69c1ae9",
   "metadata": {},
   "outputs": [
    {
     "name": "stdout",
     "output_type": "stream",
     "text": [
      "Hello\n",
      "Hello\n",
      "Hello\n"
     ]
    }
   ],
   "source": [
    "import tkinter as tk\n",
    "import random\n",
    "window=tk.Tk()\n",
    "window.title('Моя перша програма з GUI_ГОЛОВНЕ ВІКНО')\n",
    "window.geometry(\"300x300+50+50\")\n",
    "window.config(bg='blue')\n",
    "label1=tk.Label(window, text='Hello, ',bg='yellow',fg='black',font=('Monotype Corsiva',14,'bold'),width=10)\n",
    "label1.grid(row=0, column=0)\n",
    "label2=tk.Label(window, text='Hello, ',bg='green',fg='black',font=('Monotype Corsiva',14,'bold'),width=15)\n",
    "label2.grid(row=0, column=1)\n",
    "label3=tk.Label(window, text='Hello, ',bg='blue',fg='black',font=('Monotype Corsiva',14,'bold'),width=15)\n",
    "label3.grid(row=1, column=0)\n",
    "label4=tk.Label(window, text='Hello, ',bg='red',fg='black',font=('Monotype Corsiva',14,'bold'),width=15)\n",
    "label4.grid(row=1, column=1)\n",
    "\n",
    "def button1_click():\n",
    "    label3['text']='привіт'\n",
    "button1=tk.Button(window, text='Кнопка №1',command=button1_click)\n",
    "button1.grid(row=2,column=0)\n",
    "def button2_click():\n",
    "    print('Hello')\n",
    "button2=tk.Button(window, text='Кнопка №2',command=button2_click)\n",
    "button2.grid(row=2,column=1)\n",
    "a=['red', 'green', 'blue', 'cyan', 'magenta', 'yellow', 'black','white','pink','brown','gray']\n",
    "def button3_click():\n",
    "    colir=random.choice(a)\n",
    "    window['bg']=colir\n",
    "button3=tk.Button(window, text='Кнопка №3',command=button3_click)\n",
    "button3.grid(row=3,column=0)\n",
    "\n",
    "entry1=tk.Entry(window)\n",
    "entry1.grid(row=4,column=0)\n",
    "\n",
    "def button4_click():\n",
    "    s=entry1.get()\n",
    "    label1['text']=s\n",
    "button4=tk.Button(window, text='Кнопка №4',command=button4_click)\n",
    "button4.grid(row=5,column=0)\n",
    "def left_mouse (event):\n",
    "    window['bg']= 'green'\n",
    "def right_mouse (event):\n",
    "    window['bg']= 'yellow'\n",
    "def centre_mouse (event):\n",
    "    window['bg']= 'black'\n",
    "def move_mouse (event):\n",
    "    window['bg']= 'white'\n",
    "window.bind('<Button-1>', left_mouse)\n",
    "window.bind('<Button-2>', centre_mouse)\n",
    "window.bind('<Button-3>', right_mouse)\n",
    "window.bind('<Motion>', move_mouse)\n",
    "window.mainloop()\n"
   ]
  },
  {
   "cell_type": "code",
   "execution_count": null,
   "id": "77a43ea0",
   "metadata": {},
   "outputs": [],
   "source": []
  }
 ],
 "metadata": {
  "kernelspec": {
   "display_name": "Python 3 (ipykernel)",
   "language": "python",
   "name": "python3"
  },
  "language_info": {
   "codemirror_mode": {
    "name": "ipython",
    "version": 3
   },
   "file_extension": ".py",
   "mimetype": "text/x-python",
   "name": "python",
   "nbconvert_exporter": "python",
   "pygments_lexer": "ipython3",
   "version": "3.10.4"
  }
 },
 "nbformat": 4,
 "nbformat_minor": 5
}
